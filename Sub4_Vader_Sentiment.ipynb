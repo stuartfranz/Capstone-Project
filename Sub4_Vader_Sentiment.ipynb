{
 "cells": [
  {
   "cell_type": "markdown",
   "metadata": {},
   "source": [
    "<a id='TopPage'></a>\n",
    "## Initial EDA\n",
    "\n",
    "#### Contents:\n",
    "\n",
    "- Imports\n",
    "    - [Module Imports](#LImports)\n",
    "    - [Data Import](#DImports)\n",
    "- [Feature Engineering](#FEngin)\n",
    "- [Vader Sentiment Analysis](#Vader)\n",
    "- [Modeling](#Model)\n",
    "    - [Logistic Regression](#LogReg)\n",
    "        - [Model](#Model0)\n",
    "        - [Threshold Manipulation](#Thresh0)\n",
    "        - [Results](#Res0)\n",
    "    - [Bagging (Pre Gridsearch)](#BaggingPG)\n",
    "        - [Model](#Model1)\n",
    "        - [Threshold Manipulation](#Thresh1)\n",
    "        - [Results](#Res1)\n",
    "    - [Gridsearch (Bagging)](#GridsearchB)\n",
    "        - [Model](#Model2)\n",
    "        - [Threshold Manipulation](#Thresh2)\n",
    "        - [Results](#Res2)\n",
    "    - [Optimised Bagging](#BaggingG)\n",
    "        - [Model](#Model3)\n",
    "        - [Threshold Manipulation](#Thresh3)\n",
    "        - [Results](#Res3)\n",
    "    \n"
   ]
  },
  {
   "cell_type": "markdown",
   "metadata": {},
   "source": [
    "<a id='LImports'></a>\n",
    "**Module Imports:**"
   ]
  },
  {
   "cell_type": "code",
   "execution_count": 182,
   "metadata": {},
   "outputs": [],
   "source": [
    "import pandas as pd\n",
    "import numpy as np\n",
    "import matplotlib.pyplot as plt\n",
    "import time\n",
    "import seaborn as sns\n",
    "sns.set(font_scale=0.5)\n",
    "%config InlineBackend.figure_format = 'retina'\n",
    "%matplotlib inline\n",
    "\n",
    "from sklearn.model_selection import train_test_split\n",
    "\n",
    "from sklearn.linear_model import LogisticRegression\n",
    "from sklearn.model_selection import cross_val_score\n",
    "from sklearn.metrics import accuracy_score\n",
    "from sklearn.feature_extraction import DictVectorizer\n",
    "from sklearn.ensemble import BaggingClassifier\n",
    "from sklearn.metrics import accuracy_score,confusion_matrix,classification_report\n",
    "from sklearn.preprocessing import StandardScaler\n",
    "\n",
    "import seaborn as sns\n",
    "\n",
    "from vaderSentiment.vaderSentiment import SentimentIntensityAnalyzer\n",
    "\n",
    "from maxacc import maxacc\n",
    "\n",
    "from sklearn.neighbors import KNeighborsClassifier\n",
    "from sklearn.tree import DecisionTreeClassifier\n",
    "from sklearn.model_selection import GridSearchCV"
   ]
  },
  {
   "cell_type": "markdown",
   "metadata": {},
   "source": [
    "<a id='DImports'></a>\n",
    "**Data Imports:**"
   ]
  },
  {
   "cell_type": "code",
   "execution_count": 13,
   "metadata": {},
   "outputs": [],
   "source": [
    "reddit_data = pd.read_json('Clean_Data')"
   ]
  },
  {
   "cell_type": "code",
   "execution_count": 14,
   "metadata": {},
   "outputs": [],
   "source": [
    "reddit_data.created_utc = pd.to_datetime(reddit_data.created_utc.map(time.ctime))\n",
    "reddit_data.retrieved_on = pd.to_datetime(reddit_data.retrieved_on.map(time.ctime))\n",
    "reddit_data.updated_utc = pd.to_datetime(reddit_data.updated_utc.map(time.ctime))"
   ]
  },
  {
   "cell_type": "markdown",
   "metadata": {},
   "source": [
    "---"
   ]
  },
  {
   "cell_type": "markdown",
   "metadata": {},
   "source": [
    "<a id='FEngin'></a>\n",
    "## Feature Engineering:"
   ]
  },
  {
   "cell_type": "code",
   "execution_count": 15,
   "metadata": {},
   "outputs": [],
   "source": [
    "# Creating a colums which shows the length of the text\n",
    "reddit_data['quote_len'] = reddit_data.selftext.map(lambda x: len(x.split()))"
   ]
  },
  {
   "cell_type": "code",
   "execution_count": 16,
   "metadata": {},
   "outputs": [],
   "source": [
    "# Creating a columns that is 1 if family is mentioned and 0 if not\n",
    "fam = ['brother','sister','family','mum','mother','dad','father','son','daughter','Son','mom','bro']\n",
    "reddit_data['family?'] = [bool(sum([1 if i in j else 0 for i in fam]))*1 for j in reddit_data.selftext]"
   ]
  },
  {
   "cell_type": "code",
   "execution_count": 17,
   "metadata": {},
   "outputs": [],
   "source": [
    "# Creating a column for the hour in the day in which the post was created\n",
    "reddit_data['hour'] = [str(i.hour) for i in reddit_data.created_utc]"
   ]
  },
  {
   "cell_type": "code",
   "execution_count": 19,
   "metadata": {},
   "outputs": [],
   "source": [
    "# Dummifying hour data\n",
    "reddit_data_dummy = pd.get_dummies(reddit_data,columns=['hour'])"
   ]
  },
  {
   "cell_type": "code",
   "execution_count": 20,
   "metadata": {},
   "outputs": [],
   "source": [
    "reddit_data_dummy = reddit_data_dummy.loc[:,'created_utc':]"
   ]
  },
  {
   "cell_type": "code",
   "execution_count": 21,
   "metadata": {},
   "outputs": [
    {
     "data": {
      "text/plain": [
       "Index(['created_utc', 'gildings', 'is_crosspostable', 'is_robot_indexable',\n",
       "       'no_follow', 'num_comments', 'over_18', 'retrieved_on', 'score',\n",
       "       'selftext', 'send_replies', 'updated_utc', 'wls', 'Ass', 'Ass2', 'y',\n",
       "       'quote_len', 'family?', 'hour_0', 'hour_1', 'hour_10', 'hour_11',\n",
       "       'hour_12', 'hour_13', 'hour_14', 'hour_15', 'hour_16', 'hour_17',\n",
       "       'hour_18', 'hour_19', 'hour_2', 'hour_20', 'hour_21', 'hour_22',\n",
       "       'hour_23', 'hour_3', 'hour_4', 'hour_5', 'hour_6', 'hour_7', 'hour_8',\n",
       "       'hour_9'],\n",
       "      dtype='object')"
      ]
     },
     "execution_count": 21,
     "metadata": {},
     "output_type": "execute_result"
    }
   ],
   "source": [
    "reddit_data_dummy.columns"
   ]
  },
  {
   "cell_type": "markdown",
   "metadata": {},
   "source": [
    "---"
   ]
  },
  {
   "cell_type": "markdown",
   "metadata": {},
   "source": [
    "<a id='Vader'></a>\n",
    "## Vader Sentiment Analysis (Creating Features):"
   ]
  },
  {
   "cell_type": "code",
   "execution_count": 23,
   "metadata": {},
   "outputs": [],
   "source": [
    "analyzer = SentimentIntensityAnalyzer()\n",
    "for sentence in reddit_data.selftext.values:\n",
    "    vs = analyzer.polarity_scores(sentence)"
   ]
  },
  {
   "cell_type": "code",
   "execution_count": 24,
   "metadata": {},
   "outputs": [],
   "source": [
    "vader_scores = reddit_data['selftext'].map(analyzer.polarity_scores)"
   ]
  },
  {
   "cell_type": "code",
   "execution_count": 25,
   "metadata": {},
   "outputs": [
    {
     "data": {
      "text/plain": [
       "<5693x4 sparse matrix of type '<class 'numpy.float64'>'\n",
       "\twith 22590 stored elements in Compressed Sparse Row format>"
      ]
     },
     "execution_count": 25,
     "metadata": {},
     "output_type": "execute_result"
    }
   ],
   "source": [
    "dvec = DictVectorizer()\n",
    "\n",
    "vader_scores = dvec.fit_transform(vader_scores)\n",
    "vader_scores"
   ]
  },
  {
   "cell_type": "code",
   "execution_count": 28,
   "metadata": {},
   "outputs": [],
   "source": [
    "for i, col in enumerate(dvec.feature_names_):\n",
    "    reddit_data_dummy['vader_{}'.format(col)] = vader_scores[:, i].toarray().ravel()"
   ]
  },
  {
   "cell_type": "markdown",
   "metadata": {},
   "source": [
    "---"
   ]
  },
  {
   "cell_type": "markdown",
   "metadata": {},
   "source": [
    "<a id='Model'></a>\n",
    "## Modelling:"
   ]
  },
  {
   "cell_type": "markdown",
   "metadata": {},
   "source": [
    "<a id='LogReg'></a>\n",
    "**Logistic Regression:**"
   ]
  },
  {
   "cell_type": "markdown",
   "metadata": {},
   "source": [
    "<a id='Model0'></a>\n",
    "Model:"
   ]
  },
  {
   "cell_type": "code",
   "execution_count": 223,
   "metadata": {
    "scrolled": true
   },
   "outputs": [
    {
     "data": {
      "text/plain": [
       "LogisticRegression(C=1.0, class_weight='balanced', dual=False,\n",
       "          fit_intercept=True, intercept_scaling=1, max_iter=100,\n",
       "          multi_class='warn', n_jobs=None, penalty='l2', random_state=None,\n",
       "          solver='lbfgs', tol=0.0001, verbose=0, warm_start=False)"
      ]
     },
     "execution_count": 223,
     "metadata": {},
     "output_type": "execute_result"
    }
   ],
   "source": [
    "scaler = StandardScaler()\n",
    "\n",
    "base = pd.Series(reddit_data.y).value_counts(normalize=True)\n",
    "\n",
    "X = reddit_data_dummy[['gildings', 'is_crosspostable', 'is_robot_indexable',\n",
    "       'no_follow', 'num_comments', 'over_18', 'score', 'send_replies', 'wls',\n",
    "       'vader_compound', 'vader_neg', 'vader_neu', 'vader_pos', 'quote_len',\n",
    "       'family?', 'hour_0', 'hour_1', 'hour_10', 'hour_11', 'hour_12',\n",
    "       'hour_13', 'hour_14', 'hour_15', 'hour_16', 'hour_17', 'hour_18',\n",
    "       'hour_19', 'hour_2', 'hour_20', 'hour_21', 'hour_22', 'hour_23',\n",
    "       'hour_3', 'hour_4', 'hour_5', 'hour_6', 'hour_7', 'hour_8', 'hour_9']].astype(float)\n",
    "y = reddit_data_dummy.y\n",
    "\n",
    "Xs = scaler.fit_transform(X)\n",
    "\n",
    "Xtrain,Xtest,ytrain,ytest = train_test_split(Xs,y,test_size = 0.2,shuffle=True,stratify=y,random_state = 2)\n",
    "\n",
    "lr = LogisticRegression(solver='lbfgs',class_weight='balanced')\n",
    "lr.fit(Xtrain, ytrain)"
   ]
  },
  {
   "cell_type": "markdown",
   "metadata": {},
   "source": [
    "<a id='Thresh0'></a>\n",
    "Threshold Manipulation:"
   ]
  },
  {
   "cell_type": "code",
   "execution_count": 224,
   "metadata": {},
   "outputs": [],
   "source": [
    "probs = lr.predict_proba(Xtest)\n",
    "acc=[]\n",
    "for i in np.linspace(0.3,0.7,num=200):\n",
    "    yhat = ['NTA' if j[0] > i else 'YTA' for j in probs]\n",
    "    acc.append(accuracy_score(ytest, yhat))\n",
    "thresh = np.linspace(0.3,0.7,num=200)[acc.index(max(acc))]\n",
    "yhat = ['NTA' if j[0] > thresh else 'YTA' for j in probs]\n",
    "accmax = max(acc)"
   ]
  },
  {
   "cell_type": "markdown",
   "metadata": {},
   "source": [
    "<a id='Res0'></a>\n",
    "Results:"
   ]
  },
  {
   "cell_type": "code",
   "execution_count": 276,
   "metadata": {},
   "outputs": [],
   "source": [
    "lr_coefs = pd.DataFrame(lr.coef_,columns=X.columns).sort_values(0,ascending=False,axis=1)\n",
    "lr_co2 = lr_coefs.T[np.abs(lr_coefs.T[0])>=0.05].T"
   ]
  },
  {
   "cell_type": "code",
   "execution_count": 289,
   "metadata": {},
   "outputs": [
    {
     "data": {
      "image/png": "[encoded data removed]",
      "text/plain": [
       "<Figure size 864x576 with 1 Axes>"
      ]
     },
     "metadata": {
      "image/png": {
       "height": 577,
       "width": 736
      }
     },
     "output_type": "display_data"
    }
   ],
   "source": [
    "fig,ax = plt.subplots(figsize = [12,8])\n",
    "sns.barplot(data=lr_co2)\n",
    "plt.xlabel('Feature',fontdict={'fontsize':15})\n",
    "plt.ylabel('Coeficient',fontdict={'fontsize':15})\n",
    "plt.title('Model Coefficient\\nLogistic Regression',fontdict={'fontsize':15})\n",
    "plt.xticks(rotation=-45,ha='left');"
   ]
  },
  {
   "cell_type": "code",
   "execution_count": 225,
   "metadata": {},
   "outputs": [
    {
     "name": "stdout",
     "output_type": "stream",
     "text": [
      "Confusion Matrix:\n",
      " [[493 159]\n",
      " [289 198]] \n",
      "\n",
      "Test Accuracy Scory: 0.6066725197541704\n",
      "Baseline Score: 0.5726330581415774 \n",
      "\n",
      "\n",
      "Classification Report:\n",
      "               precision    recall  f1-score   support\n",
      "\n",
      "         NTA       0.63      0.76      0.69       652\n",
      "         YTA       0.55      0.41      0.47       487\n",
      "\n",
      "   micro avg       0.61      0.61      0.61      1139\n",
      "   macro avg       0.59      0.58      0.58      1139\n",
      "weighted avg       0.60      0.61      0.59      1139\n",
      "\n"
     ]
    }
   ],
   "source": [
    "print('Confusion Matrix:\\n',confusion_matrix(ytest,yhat),'\\n')\n",
    "\n",
    "print('Test Accuracy Scory:',accuracy_score(ytest,yhat))\n",
    "\n",
    "print('Baseline Score:',base[0],'\\n\\n')\n",
    "\n",
    "print('Classification Report:\\n',classification_report(ytest,yhat))"
   ]
  },
  {
   "cell_type": "markdown",
   "metadata": {},
   "source": [
    "---"
   ]
  },
  {
   "cell_type": "markdown",
   "metadata": {},
   "source": [
    "<a id='BaggingPG'></a>\n",
    "**Bagging (Pre Gridsearch):**"
   ]
  },
  {
   "cell_type": "markdown",
   "metadata": {},
   "source": [
    "<a id='Model1'></a>\n",
    "Model:"
   ]
  },
  {
   "cell_type": "code",
   "execution_count": 226,
   "metadata": {},
   "outputs": [
    {
     "data": {
      "text/plain": [
       "BaggingClassifier(base_estimator=None, bootstrap=True,\n",
       "         bootstrap_features=False, max_features=5, max_samples=100,\n",
       "         n_estimators=100, n_jobs=-1, oob_score=False, random_state=None,\n",
       "         verbose=0, warm_start=False)"
      ]
     },
     "execution_count": 226,
     "metadata": {},
     "output_type": "execute_result"
    }
   ],
   "source": [
    "bc = BaggingClassifier(n_estimators=100,max_samples=100,max_features=5,n_jobs=-1)\n",
    "bc.fit(Xtrain,ytrain)"
   ]
  },
  {
   "cell_type": "markdown",
   "metadata": {},
   "source": [
    "<a id='Thresh1'></a>\n",
    "Threshold Manipulation:"
   ]
  },
  {
   "cell_type": "code",
   "execution_count": 227,
   "metadata": {},
   "outputs": [],
   "source": [
    "probs = bc.predict_proba(Xtest)\n",
    "acc=[]\n",
    "for i in np.linspace(0.3,0.7,num=200):\n",
    "    yhat = ['NTA' if j[0] > i else 'YTA' for j in probs]\n",
    "    acc.append(accuracy_score(ytest, yhat))\n",
    "thresh = np.linspace(0.3,0.7,num=200)[acc.index(max(acc))]\n",
    "yhat = ['NTA' if j[0] > thresh else 'YTA' for j in probs]\n",
    "accmax = max(acc)"
   ]
  },
  {
   "cell_type": "markdown",
   "metadata": {},
   "source": [
    "<a id='Res1'></a>\n",
    "Results:"
   ]
  },
  {
   "cell_type": "code",
   "execution_count": 228,
   "metadata": {},
   "outputs": [
    {
     "name": "stdout",
     "output_type": "stream",
     "text": [
      "Confusion Matrix:\n",
      " [[523 129]\n",
      " [317 170]] \n",
      "\n",
      "Test Accuracy Scory: 0.6084284460052678\n",
      "Baseline Score: 0.5726330581415774 \n",
      "\n",
      "\n",
      "Classification Report:\n",
      "               precision    recall  f1-score   support\n",
      "\n",
      "         NTA       0.62      0.80      0.70       652\n",
      "         YTA       0.57      0.35      0.43       487\n",
      "\n",
      "   micro avg       0.61      0.61      0.61      1139\n",
      "   macro avg       0.60      0.58      0.57      1139\n",
      "weighted avg       0.60      0.61      0.59      1139\n",
      "\n"
     ]
    }
   ],
   "source": [
    "print('Confusion Matrix:\\n',confusion_matrix(ytest,yhat),'\\n')\n",
    "\n",
    "print('Test Accuracy Scory:',accuracy_score(ytest,yhat))\n",
    "\n",
    "print('Baseline Score:',base[0],'\\n\\n')\n",
    "\n",
    "print('Classification Report:\\n',classification_report(ytest,yhat))"
   ]
  },
  {
   "cell_type": "markdown",
   "metadata": {},
   "source": [
    "---"
   ]
  },
  {
   "cell_type": "markdown",
   "metadata": {},
   "source": [
    "<a id='GridsearchB'></a>\n",
    "**GridSearch (Bagging):**"
   ]
  },
  {
   "cell_type": "markdown",
   "metadata": {},
   "source": [
    "<a id='Model2'></a>\n",
    "Model:"
   ]
  },
  {
   "cell_type": "code",
   "execution_count": 229,
   "metadata": {},
   "outputs": [],
   "source": [
    "knn = KNeighborsClassifier(n_neighbors=20)\n",
    "dtc = DecisionTreeClassifier()"
   ]
  },
  {
   "cell_type": "code",
   "execution_count": 230,
   "metadata": {},
   "outputs": [],
   "source": [
    "params = {'base_estimator':[knn,dtc],\n",
    "          'n_estimators':[100,200,300,400,500],\n",
    "          'max_samples':[100], 'max_features':[1,2,3,4,5,6,7,8,9,10],\n",
    "          'bootstrap':[True], 'bootstrap_features':[True]}"
   ]
  },
  {
   "cell_type": "code",
   "execution_count": 204,
   "metadata": {},
   "outputs": [
    {
     "name": "stdout",
     "output_type": "stream",
     "text": [
      "Fitting 5 folds for each of 100 candidates, totalling 500 fits\n"
     ]
    },
    {
     "name": "stderr",
     "output_type": "stream",
     "text": [
      "[Parallel(n_jobs=-1)]: Using backend LokyBackend with 4 concurrent workers.\n",
      "[Parallel(n_jobs=-1)]: Done  42 tasks      | elapsed:  1.1min\n",
      "[Parallel(n_jobs=-1)]: Done 192 tasks      | elapsed:  5.7min\n",
      "[Parallel(n_jobs=-1)]: Done 442 tasks      | elapsed:  8.7min\n",
      "[Parallel(n_jobs=-1)]: Done 500 out of 500 | elapsed:  9.1min finished\n"
     ]
    },
    {
     "data": {
      "text/plain": [
       "GridSearchCV(cv=5, error_score='raise-deprecating',\n",
       "       estimator=BaggingClassifier(base_estimator=None, bootstrap=True,\n",
       "         bootstrap_features=False, max_features=5, max_samples=100,\n",
       "         n_estimators=100, n_jobs=-1, oob_score=False, random_state=None,\n",
       "         verbose=0, warm_start=False),\n",
       "       fit_params=None, iid='warn', n_jobs=-1,\n",
       "       param_grid={'base_estimator': [KNeighborsClassifier(algorithm='auto', leaf_size=30, metric='minkowski',\n",
       "           metric_params=None, n_jobs=None, n_neighbors=20, p=2,\n",
       "           weights='uniform'), DecisionTreeClassifier(class_weight=None, criterion='gini', max_depth=None,\n",
       "            max_features... 'max_features': [1, 2, 3, 4, 5, 6, 7, 8, 9, 10], 'bootstrap': [True], 'bootstrap_features': [True]},\n",
       "       pre_dispatch='2*n_jobs', refit=True, return_train_score='warn',\n",
       "       scoring=None, verbose=1)"
      ]
     },
     "execution_count": 204,
     "metadata": {},
     "output_type": "execute_result"
    }
   ],
   "source": [
    "gcv = GridSearchCV(bc,params,cv=5,verbose = 1,n_jobs=-1)\n",
    "gcv.fit(Xtrain,ytrain)"
   ]
  },
  {
   "cell_type": "markdown",
   "metadata": {},
   "source": [
    "<a id='Thresh2'></a>\n",
    "Threshold Manipulation:"
   ]
  },
  {
   "cell_type": "code",
   "execution_count": 231,
   "metadata": {},
   "outputs": [],
   "source": [
    "probs = gcv.predict_proba(Xtest)\n",
    "acc=[]\n",
    "for i in np.linspace(0.3,0.7,num=200):\n",
    "    yhat = ['NTA' if j[0] > i else 'YTA' for j in probs]\n",
    "    acc.append(accuracy_score(ytest, yhat))\n",
    "thresh = np.linspace(0.3,0.7,num=200)[acc.index(max(acc))]\n",
    "yhat = ['NTA' if j[0] > thresh else 'YTA' for j in probs]\n",
    "accmax = max(acc)"
   ]
  },
  {
   "cell_type": "markdown",
   "metadata": {},
   "source": [
    "<a id='Res2'></a>\n",
    "Results:"
   ]
  },
  {
   "cell_type": "code",
   "execution_count": 232,
   "metadata": {},
   "outputs": [
    {
     "name": "stdout",
     "output_type": "stream",
     "text": [
      "Confusion Matrix:\n",
      " [[523 129]\n",
      " [313 174]] \n",
      "\n",
      "Test Accuracy Scory: 0.6119402985074627\n",
      "Baseline Score: 0.5726330581415774 \n",
      "\n",
      "\n",
      "Classification Report:\n",
      "               precision    recall  f1-score   support\n",
      "\n",
      "         NTA       0.63      0.80      0.70       652\n",
      "         YTA       0.57      0.36      0.44       487\n",
      "\n",
      "   micro avg       0.61      0.61      0.61      1139\n",
      "   macro avg       0.60      0.58      0.57      1139\n",
      "weighted avg       0.60      0.61      0.59      1139\n",
      "\n"
     ]
    }
   ],
   "source": [
    "print('Confusion Matrix:\\n',confusion_matrix(ytest,yhat),'\\n')\n",
    "\n",
    "print('Test Accuracy Scory:',accuracy_score(ytest,yhat))\n",
    "\n",
    "print('Baseline Score:',base[0],'\\n\\n')\n",
    "\n",
    "print('Classification Report:\\n',classification_report(ytest,yhat))"
   ]
  },
  {
   "cell_type": "markdown",
   "metadata": {},
   "source": [
    "---"
   ]
  },
  {
   "cell_type": "markdown",
   "metadata": {},
   "source": [
    "<a id='BaggingG'></a>\n",
    "**Optimised Bagging:**"
   ]
  },
  {
   "cell_type": "markdown",
   "metadata": {},
   "source": [
    "<a id='Model3'></a>\n",
    "Model:"
   ]
  },
  {
   "cell_type": "code",
   "execution_count": 233,
   "metadata": {},
   "outputs": [
    {
     "data": {
      "text/plain": [
       "BaggingClassifier(base_estimator=BaggingClassifier(base_estimator=DecisionTreeClassifier(class_weight=None, criterion='gini', max_depth=None,\n",
       "            max_features=None, max_leaf_nodes=None,\n",
       "            min_impurity_decrease=0.0, min_impurity_split=None,\n",
       "            min_samples_leaf=1, min_samples_split=2,\n",
       "       ...estimators=200, n_jobs=-1, oob_score=False,\n",
       "         random_state=None, verbose=0, warm_start=False),\n",
       "         bootstrap=True, bootstrap_features=False, max_features=1.0,\n",
       "         max_samples=1.0, n_estimators=10, n_jobs=None, oob_score=False,\n",
       "         random_state=None, verbose=0, warm_start=False)"
      ]
     },
     "execution_count": 233,
     "metadata": {},
     "output_type": "execute_result"
    }
   ],
   "source": [
    "bc = BaggingClassifier(gcv.best_estimator_)\n",
    "bc.fit(Xtrain,ytrain)"
   ]
  },
  {
   "cell_type": "markdown",
   "metadata": {},
   "source": [
    "<a id='Thresh3'></a>\n",
    "Threshold Manipulation:"
   ]
  },
  {
   "cell_type": "code",
   "execution_count": 234,
   "metadata": {},
   "outputs": [],
   "source": [
    "probs = bc.predict_proba(Xtest)\n",
    "acc=[]\n",
    "for i in np.linspace(0.3,0.7,num=200):\n",
    "    yhat = ['NTA' if j[0] > i else 'YTA' for j in probs]\n",
    "    acc.append(accuracy_score(ytest, yhat))\n",
    "thresh = np.linspace(0.3,0.7,num=200)[acc.index(max(acc))]\n",
    "yhat = ['NTA' if j[0] > thresh else 'YTA' for j in probs]\n",
    "accmax = max(acc)"
   ]
  },
  {
   "cell_type": "markdown",
   "metadata": {},
   "source": [
    "<a id='Res3'></a>\n",
    "Results:"
   ]
  },
  {
   "cell_type": "code",
   "execution_count": 248,
   "metadata": {},
   "outputs": [
    {
     "name": "stdout",
     "output_type": "stream",
     "text": [
      "Confusion Matrix:\n",
      " [[538 114]\n",
      " [278 209]] \n",
      "\n",
      "Test Accuracy Scory: 0.655838454784899\n",
      "Baseline Score: 0.5726330581415774 \n",
      "\n",
      "\n",
      "Classification Report:\n",
      "               precision    recall  f1-score   support\n",
      "\n",
      "         NTA       0.66      0.83      0.73       652\n",
      "         YTA       0.65      0.43      0.52       487\n",
      "\n",
      "   micro avg       0.66      0.66      0.66      1139\n",
      "   macro avg       0.65      0.63      0.62      1139\n",
      "weighted avg       0.65      0.66      0.64      1139\n",
      "\n"
     ]
    }
   ],
   "source": [
    "print('Confusion Matrix:\\n',confusion_matrix(ytest,yhat),'\\n')\n",
    "\n",
    "print('Test Accuracy Scory:',accuracy_score(ytest,yhat))\n",
    "\n",
    "print('Baseline Score:',base[0],'\\n\\n')\n",
    "\n",
    "print('Classification Report:\\n',classification_report(ytest,yhat))"
   ]
  },
  {
   "cell_type": "code",
   "execution_count": 210,
   "metadata": {},
   "outputs": [],
   "source": [
    "reddit_data_dummy.to_json('Vadered_Data')"
   ]
  },
  {
   "cell_type": "markdown",
   "metadata": {},
   "source": [
    "- [Top of Page](#TopPage)\n",
    "- [Next Section](./Sub6_Regression_Analysis.ipynb)"
   ]
  }
 ],
 "metadata": {
  "kernelspec": {
   "display_name": "Python 3",
   "language": "python",
   "name": "python3"
  },
  "language_info": {
   "codemirror_mode": {
    "name": "ipython",
    "version": 3
   },
   "file_extension": ".py",
   "mimetype": "text/x-python",
   "name": "python",
   "nbconvert_exporter": "python",
   "pygments_lexer": "ipython3",
   "version": "3.6.8"
  }
 },
 "nbformat": 4,
 "nbformat_minor": 2
}
