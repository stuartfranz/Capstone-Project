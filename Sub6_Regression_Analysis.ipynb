{
 "cells": [
  {
   "cell_type": "code",
   "execution_count": 222,
   "metadata": {},
   "outputs": [],
   "source": [
    "import pandas as pd\n",
    "import numpy as np\n",
    "import matplotlib.pyplot as plt\n",
    "from sklearn.linear_model import SGDClassifier\n",
    "import time\n",
    "import seaborn as sns"
   ]
  },
  {
   "cell_type": "code",
   "execution_count": 223,
   "metadata": {},
   "outputs": [],
   "source": [
    "df = pd.read_json('Vadered_Data')\n",
    "df = df.loc[:,'created_utc':]\n",
    "# df.Ass = df.Ass.map(eval)\n",
    "# df.Ass2 = df.Ass2.map(eval)\n",
    "df['Ass%'] = [i[1] if i[0] == 'YTA' else 1-i[1] for i in df.Ass]"
   ]
  },
  {
   "cell_type": "code",
   "execution_count": 224,
   "metadata": {},
   "outputs": [],
   "source": [
    "df.created_utc = df.created_utc/1000\n",
    "df.retrieved_on = df.retrieved_on/1000\n",
    "df.updated_utc = df.updated_utc/1000"
   ]
  },
  {
   "cell_type": "code",
   "execution_count": 225,
   "metadata": {},
   "outputs": [],
   "source": [
    "df.created_utc = pd.to_datetime(df.created_utc.map(time.ctime))\n",
    "df.retrieved_on = pd.to_datetime(df.retrieved_on.map(time.ctime))\n",
    "df.updated_utc = pd.to_datetime(df.updated_utc.map(time.ctime))"
   ]
  },
  {
   "cell_type": "code",
   "execution_count": 231,
   "metadata": {},
   "outputs": [],
   "source": [
    "from sklearn.linear_model import LinearRegression,LogisticRegression\n",
    "from sklearn.preprocessing import StandardScaler\n",
    "from sklearn.model_selection import cross_val_score, GridSearchCV\n",
    "from sklearn.metrics import accuracy_score,confusion_matrix,classification_report\n",
    "from sklearn.ensemble import BaggingRegressor\n",
    "\n",
    "from tqdm import tqdm_notebook"
   ]
  },
  {
   "cell_type": "code",
   "execution_count": 228,
   "metadata": {},
   "outputs": [
    {
     "data": {
      "text/plain": [
       "Index(['created_utc', 'gildings', 'is_crosspostable', 'is_robot_indexable',\n",
       "       'no_follow', 'num_comments', 'over_18', 'retrieved_on', 'score',\n",
       "       'selftext', 'send_replies', 'updated_utc', 'wls', 'Ass', 'Ass2', 'y',\n",
       "       'vader_compound', 'vader_neg', 'vader_neu', 'vader_pos', 'quote_len',\n",
       "       'family?', 'hour_0', 'hour_1', 'hour_10', 'hour_11', 'hour_12',\n",
       "       'hour_13', 'hour_14', 'hour_15', 'hour_16', 'hour_17', 'hour_18',\n",
       "       'hour_19', 'hour_2', 'hour_20', 'hour_21', 'hour_22', 'hour_23',\n",
       "       'hour_3', 'hour_4', 'hour_5', 'hour_6', 'hour_7', 'hour_8', 'hour_9',\n",
       "       'Ass%'],\n",
       "      dtype='object')"
      ]
     },
     "execution_count": 228,
     "metadata": {},
     "output_type": "execute_result"
    }
   ],
   "source": [
    "df.columns"
   ]
  },
  {
   "cell_type": "code",
   "execution_count": 229,
   "metadata": {
    "scrolled": true
   },
   "outputs": [],
   "source": [
    "lr = LinearRegression()\n",
    "scaler = StandardScaler()\n",
    "\n",
    "X = df[['gildings', 'is_crosspostable', 'is_robot_indexable','no_follow',\n",
    "        'num_comments', 'over_18', 'score','send_replies','wls',\n",
    "       'vader_compound', 'vader_neg', 'vader_neu', 'vader_pos', 'quote_len',\n",
    "       'family?', 'hour_0', 'hour_1', 'hour_10', 'hour_11', 'hour_12',\n",
    "       'hour_13', 'hour_14', 'hour_15', 'hour_16', 'hour_17', 'hour_18',\n",
    "       'hour_19', 'hour_2', 'hour_20', 'hour_21', 'hour_22', 'hour_23',\n",
    "       'hour_3', 'hour_4', 'hour_5', 'hour_6', 'hour_7', 'hour_8', 'hour_9']].astype(float)\n",
    "y = df['Ass%']\n",
    "\n",
    "Xs = scaler.fit_transform(X)\n",
    "\n",
    "lr.fit(Xs, y)\n",
    "\n",
    "scores = cross_val_score(lr, Xs, y, cv=5)\n",
    "\n",
    "\n",
    "yhat = lr.predict(Xs)"
   ]
  },
  {
   "cell_type": "code",
   "execution_count": 219,
   "metadata": {},
   "outputs": [
    {
     "data": {
      "text/plain": [
       "<matplotlib.collections.PathCollection at 0x1a31adc0f0>"
      ]
     },
     "execution_count": 219,
     "metadata": {},
     "output_type": "execute_result"
    },
    {
     "data": {
      "image/png": "[encoded data removed]",
      "text/plain": [
       "<Figure size 432x288 with 1 Axes>"
      ]
     },
     "metadata": {
      "needs_background": "light"
     },
     "output_type": "display_data"
    }
   ],
   "source": [
    "plt.scatter(y,yhat)"
   ]
  },
  {
   "cell_type": "code",
   "execution_count": null,
   "metadata": {},
   "outputs": [],
   "source": [
    "sns.pairplot(X)"
   ]
  },
  {
   "cell_type": "code",
   "execution_count": null,
   "metadata": {},
   "outputs": [],
   "source": []
  },
  {
   "cell_type": "code",
   "execution_count": 233,
   "metadata": {},
   "outputs": [],
   "source": [
    "from sklearn.neighbors import KNeighborsRegressor\n",
    "from sklearn.tree import DecisionTreeRegressor"
   ]
  },
  {
   "cell_type": "code",
   "execution_count": 235,
   "metadata": {},
   "outputs": [],
   "source": [
    "knn = KNeighborsRegressor(n_neighbors=20)\n",
    "dtc = DecisionTreeRegressor()"
   ]
  },
  {
   "cell_type": "code",
   "execution_count": 236,
   "metadata": {},
   "outputs": [],
   "source": [
    "params = {'base_estimator':[knn,dtc],\n",
    "          'n_estimators':[100,200,300,400,500],\n",
    "          'max_samples':[100], 'max_features':[1,2,3,4,5,6,7,8,9,10],\n",
    "          'bootstrap':[True], 'bootstrap_features':[True]}"
   ]
  },
  {
   "cell_type": "code",
   "execution_count": 238,
   "metadata": {},
   "outputs": [],
   "source": [
    "br = BaggingRegressor()"
   ]
  },
  {
   "cell_type": "code",
   "execution_count": 239,
   "metadata": {},
   "outputs": [],
   "source": [
    "gcv = GridSearchCV(br,params,cv=5,verbose = 1,n_jobs=-1)"
   ]
  },
  {
   "cell_type": "code",
   "execution_count": 241,
   "metadata": {},
   "outputs": [
    {
     "name": "stdout",
     "output_type": "stream",
     "text": [
      "Fitting 5 folds for each of 100 candidates, totalling 500 fits\n"
     ]
    },
    {
     "name": "stderr",
     "output_type": "stream",
     "text": [
      "[Parallel(n_jobs=-1)]: Using backend LokyBackend with 4 concurrent workers.\n",
      "[Parallel(n_jobs=-1)]: Done  42 tasks      | elapsed:   48.2s\n",
      "[Parallel(n_jobs=-1)]: Done 192 tasks      | elapsed:  5.4min\n",
      "[Parallel(n_jobs=-1)]: Done 442 tasks      | elapsed:  8.5min\n",
      "[Parallel(n_jobs=-1)]: Done 500 out of 500 | elapsed:  8.8min finished\n"
     ]
    },
    {
     "data": {
      "text/plain": [
       "GridSearchCV(cv=5, error_score='raise-deprecating',\n",
       "       estimator=BaggingRegressor(base_estimator=None, bootstrap=True,\n",
       "         bootstrap_features=False, max_features=1.0, max_samples=1.0,\n",
       "         n_estimators=10, n_jobs=None, oob_score=False, random_state=None,\n",
       "         verbose=0, warm_start=False),\n",
       "       fit_params=None, iid='warn', n_jobs=-1,\n",
       "       param_grid={'base_estimator': [KNeighborsRegressor(algorithm='auto', leaf_size=30, metric='minkowski',\n",
       "          metric_params=None, n_jobs=None, n_neighbors=20, p=2,\n",
       "          weights='uniform'), DecisionTreeRegressor(criterion='mse', max_depth=None, max_features=None,\n",
       "           max_leaf_nodes=Non... 'max_features': [1, 2, 3, 4, 5, 6, 7, 8, 9, 10], 'bootstrap': [True], 'bootstrap_features': [True]},\n",
       "       pre_dispatch='2*n_jobs', refit=True, return_train_score='warn',\n",
       "       scoring=None, verbose=1)"
      ]
     },
     "execution_count": 241,
     "metadata": {},
     "output_type": "execute_result"
    }
   ],
   "source": [
    "gcv.fit(Xs,y)"
   ]
  },
  {
   "cell_type": "code",
   "execution_count": 242,
   "metadata": {},
   "outputs": [
    {
     "data": {
      "text/plain": [
       "0.05937818368218039"
      ]
     },
     "execution_count": 242,
     "metadata": {},
     "output_type": "execute_result"
    }
   ],
   "source": [
    "gcv.best_score_"
   ]
  },
  {
   "cell_type": "code",
   "execution_count": 244,
   "metadata": {},
   "outputs": [],
   "source": [
    "yhat = gcv.predict(Xs)"
   ]
  },
  {
   "cell_type": "code",
   "execution_count": 248,
   "metadata": {},
   "outputs": [
    {
     "data": {
      "text/plain": [
       "<matplotlib.collections.PathCollection at 0x1a5f209cc0>"
      ]
     },
     "execution_count": 248,
     "metadata": {},
     "output_type": "execute_result"
    },
    {
     "data": {
      "image/png": "[encoded data removed]",
      "text/plain": [
       "<Figure size 432x288 with 1 Axes>"
      ]
     },
     "metadata": {
      "needs_background": "light"
     },
     "output_type": "display_data"
    }
   ],
   "source": [
    "plt.scatter(y,yhat)\n",
    "# plt.plot([0,1],[0,1],'r')"
   ]
  },
  {
   "cell_type": "markdown",
   "metadata": {},
   "source": [
    "[Next Section](./Sub7_TFID_Vectoriser.ipynb)"
   ]
  }
 ],
 "metadata": {
  "kernelspec": {
   "display_name": "Python 3",
   "language": "python",
   "name": "python3"
  },
  "language_info": {
   "codemirror_mode": {
    "name": "ipython",
    "version": 3
   },
   "file_extension": ".py",
   "mimetype": "text/x-python",
   "name": "python",
   "nbconvert_exporter": "python",
   "pygments_lexer": "ipython3",
   "version": "3.6.8"
  }
 },
 "nbformat": 4,
 "nbformat_minor": 2
}
